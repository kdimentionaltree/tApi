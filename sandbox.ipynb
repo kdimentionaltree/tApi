{
 "cells": [
  {
   "cell_type": "code",
   "execution_count": 1,
   "id": "670acd36",
   "metadata": {},
   "outputs": [],
   "source": [
    "%load_ext autoreload\n",
    "%autoreload 2"
   ]
  },
  {
   "cell_type": "code",
   "execution_count": 2,
   "id": "a1d0734c",
   "metadata": {},
   "outputs": [],
   "source": [
    "import tApi.tonlib as TL\n",
    "import asyncio\n",
    "import json\n",
    "\n",
    "from loguru import logger\n",
    "\n",
    "\n",
    "loop = asyncio.get_running_loop()"
   ]
  },
  {
   "cell_type": "code",
   "execution_count": 3,
   "id": "8fb804df",
   "metadata": {
    "scrolled": false
   },
   "outputs": [
    {
     "data": {
      "text/plain": [
       "[{'ip': -1185526389,\n",
       "  'port': 26344,\n",
       "  'id': {'@type': 'pub.ed25519',\n",
       "   'key': 'PrcM5V1zUppM/prlSmH2r/wYSjHMyYyGWFWCkAX4U0I='}},\n",
       " {'ip': -2018162320,\n",
       "  'id': {'@type': 'pub.ed25519',\n",
       "   'key': 'RZJJ76jt10k2Ih0OTeim3aBm6nZcCwVdlfbMR7ebQ18='},\n",
       "  'port': '7208'},\n",
       " {'ip': -2018162356,\n",
       "  'id': {'@type': 'pub.ed25519',\n",
       "   'key': 'khfj2qviKdrj0ZnbE1GoiVmNn8kXwnm4ImKmjJSMOW0='},\n",
       "  'port': '16893'},\n",
       " {'ip': 1091914382,\n",
       "  'id': {'@type': 'pub.ed25519',\n",
       "   'key': 'O8PmvAwKM7n5JAQaW+q8NWKiip89eh1u9FuJZWrGvgs='},\n",
       "  'port': '21335'},\n",
       " {'ip': 1091914380,\n",
       "  'id': {'@type': 'pub.ed25519',\n",
       "   'key': 'JhXt7H1dZTgxQTIyGiYV4f9VUARuDxFl/1kVBjLSMB8='},\n",
       "  'port': '46427'},\n",
       " {'ip': 1091914381,\n",
       "  'id': {'@type': 'pub.ed25519',\n",
       "   'key': 'Mf/JGvcWAvcrN3oheze8RF/ps6p7oL6ifrIzFmGQFQ8='},\n",
       "  'port': '16351'}]"
      ]
     },
     "execution_count": 3,
     "metadata": {},
     "output_type": "execute_result"
    }
   ],
   "source": [
    "with open('settings/testnet.json', 'r') as f:\n",
    "    tonlib_config = json.load(f)\n",
    "tonlib_config['liteservers']"
   ]
  },
  {
   "cell_type": "code",
   "execution_count": 4,
   "id": "03c5e5c0",
   "metadata": {},
   "outputs": [
    {
     "name": "stderr",
     "output_type": "stream",
     "text": [
      "[ 4][t 1][2022-03-11 23:17:09.816618800][TonlibClient.cpp:1479][!Tonlib][&tonlib_query]\tTonlib got query [id:1] init {\n",
      "  options = options {\n",
      "    config = config {\n",
      "      config = \"{\"liteservers\": [{\"ip\": -1185526389, \"port\": 26344, \"id\": {\"@type\": \"pub.ed25519\", \"key\": \"PrcM5V1zUppM/prlSmH2r/wYSjHMyYyGWFWCkAX4U0I=\"}}, {\"ip\": -2018162320, \"id\": {\"@type\": \"pub.ed25519\", \"key\": \"RZJJ76jt10k2Ih0OTeim3aBm6nZcCwVdlfbMR7ebQ18=\"}, \"port\": \"7208\"}, {\"ip\": -2018162356, \"id\": {\"@type\": \"pub.ed25519\", \"key\": \"khfj2qviKdrj0ZnbE1GoiVmNn8kXwnm4ImKmjJSMOW0=\"}, \"port\": \"16893\"}, {\"ip\": 1091914382, \"id\": {\"@type\": \"pub.ed25519\", \"key\": \"O8PmvAwKM7n5JAQaW+q8NWKiip89eh1u9FuJZWrGvgs=\"}, \"port\": \"21335\"}, {\"ip\": 1091914380, \"id\": {\"@type\": \"pub.ed25519\", \"key\": \"JhXt7H1dZTgxQTIyGiYV4f9VUARuDxFl/1kVBjLSMB8=\"}, \"port\": \"46427\"}, {\"ip\": 1091914381, \"id\": {\"@type\": \"pub.ed25519\", \"key\": \"Mf/JGvcWAvcrN3oheze8RF/ps6p7oL6ifrIzFmGQFQ8=\"}, \"port\": \"16351\"}], \"dht\": {\"a\": 3, \"k\": 3, \"static_nodes\": {\"nodes\": [{\"@type\": \"dht.node\", \"id\": {\"@type\": \"pub.ed25519\", \"key\": \"490TFOcI32lvn5lEJNU4vLztmAO3b6f2K8LKo3hh0SA=\"}, \"addr_list\": {\"@type\": \"adnl.addressList\", \"addrs\": [{\"@type\": \"adnl.address.udp\", \"ip\": -2018162320, \"port\": 43278}], \"version\": 0, \"reinit_date\": 0, \"priority\": 0, \"expire_at\": 0}, \"version\": -1, \"signature\": \"7OuDu4S2Ll08hhuMM4n/+bh2ss+G5Ci7vWFotsbBGuTdtYdhTv4IGZn66clEQ242EtM0bnzSJhAO7TCij07mBw==\"}, {\"@type\": \"dht.node\", \"id\": {\"@type\": \"pub.ed25519\", \"key\": \"NHHCVq74Z3od58PzGZRTT42xUYYvASYeVteFugwsQyA=\"}, \"addr_list\": {\"@type\": \"adnl.addressList\", \"addrs\": [{\"@type\": \"adnl.address.udp\", \"ip\": -2018162357, \"port\": 26788}], \"version\": 0, \"reinit_date\": 0, \"priority\": 0, \"expire_at\": 0}, \"version\": -1, \"signature\": \"5imBRf9POL18liRo6Ttm4e0RzJcB3lDA/YlHQmk7YyanASaZ0crY9jqK3/YeFF5NTu0p3NZqXVeKC3AzeRFnAQ==\"}, {\"@type\": \"dht.node\", \"id\": {\"@type\": \"pub.ed25519\", \"key\": \"XEiMnssSoFO+tS5JrOZvGbhxRUqq5P31tOrlAoeqINc=\"}, \"addr_list\": {\"@type\": \"adnl.addressList\", \"addrs\": [{\"@type\": \"adnl.address.udp\", \"ip\": -2018162356, \"port\": 34917}], \"version\": 0, \"reinit_date\": 0, \"priority\": 0, \"expire_at\": 0}, \"version\": -1, \"signature\": \"rMH674N3hZjH+vfHNgQ+IREcvZEajwFz68cPekXjgh/WWBVNpJmKq3g1B/wRwjijOraRfvcI6cOMxHnUqnhPCw==\"}, {\"@type\": \"dht.node\", \"id\": {\"@type\": \"pub.ed25519\", \"key\": \"Rccgh1XxaiUKZHuzMMQxCX4Pxrj6XrREOZQNjpI5brI=\"}, \"addr_list\": {\"@type\": \"adnl.addressList\", \"addrs\": [{\"@type\": \"adnl.address.udp\", \"ip\": 1091914382, \"port\": 7971}], \"version\": 0, \"reinit_date\": 0, \"priority\": 0, \"expire_at\": 0}, \"version\": -1, \"signature\": \"ugzpL502rdyn5lF3EhudfUPK7OdDBvE2fI+h+UlJLQj6tdKOJromO9g8We3L4gT7Ivw3b6h/Adr1zs/Oefl2Bw==\"}, {\"@type\": \"dht.node\", \"id\": {\"@type\": \"pub.ed25519\", \"key\": \"ywbgoSekWsUkWgwB3bLy5WW6hOfjQJzxUceIsAEDOYU=\"}, \"addr_list\": {\"@type\": \"adnl.addressList\", \"addrs\": [{\"@type\": \"adnl.address.udp\", \"ip\": 1091914380, \"port\": 8893}], \"version\": 0, \"reinit_date\": 0, \"priority\": 0, \"expire_at\": 0}, \"version\": -1, \"signature\": \"CMHwr9Xp17fliFuEiiWUAK9InuFP0GwbEVCqhv9vXUHp5TnMMbkWg1mSg9oukD5JUsUbJ0uzRq2LxplnDdYlDQ==\"}, {\"@type\": \"dht.node\", \"id\": {\"@type\": \"pub.ed25519\", \"key\": \"nS7nkLflx1AiTnEEVhnAKfd4uKpXIZlw4dGUlx0DT/g=\"}, \"addr_list\": {\"@type\": \"adnl.addressList\", \"addrs\": [{\"@type\": \"adnl.address.udp\", \"ip\": 1091914381, \"port\": 22469}], \"version\": 0, \"reinit_date\": 0, \"priority\": 0, \"expire_at\": 0}, \"version\": -1, \"signature\": \"taadjS9FFaK1njNWnosAzoyVrdzNIFMrCRIm6QMjQut1npl8XddkKMYTAF+U3O+INBmjClrTR4Bvqc8IiuBKBQ==\"}, {\"@type\": \"dht.node\", \"id\": {\"@type\": \"pub.ed25519\", \"key\": \"j5FE8RU90E8pBw0mg8Fi9RU/Kl5X8UVw6IQkns6EshU=\"}, \"addr_list\": {\"@type\": \"adnl.addressList\", \"addrs\": [{\"@type\": \"adnl.address.udp\", \"ip\": -1303404396, \"port\": 33722}], \"version\": 0, \"reinit_date\": 0, \"priority\": 0, \"expire_at\": 0}, \"version\": -1, \"signature\": \"cSgSrMJEOAkskDxQCD11BMmj9/IayIpuSq1885Nx3sTvwlV6F9cC7tZx75VQPLyfuC7MZ0kh6DOjvBujND6ADg==\"}], \"@type\": \"dht.nodes\"}, \"@type\": \"dht.config.global\"}, \"@type\": \"config.global\", \"validator\": {\"@type\": \"validator.config.global\", \"zero_state\": {\"file_hash\": \"BzgfRpFgyNjHI7aR5KQhq4Wtr2wN+sXzLaW+rfHvP5A=\", \"seqno\": 0, \"root_hash\": \"WPsS1IiRjT0MSD6Xvys4QYQh7rrc9x0ybzXojwJ4gH0=\", \"workchain\": -1, \"shard\": -9223372036854775808}, \"init_block\": {\"file_hash\": \"camt3BJ6tFeSweW9d8esdNdKYxA5UklgDDmNV9CW6VM=\", \"seqno\": 6325449, \"root_hash\": \"kAks/U5Oj9FGevxXKizhZXaxdXU0tun0Isd1jaUmLCk=\", \"workchain\": -1, \"shard\": -9223372036854775808}, \"hardforks\": [{\"file_hash\": \"x97xobbkPDggz7/u6KQzlT3pBmM5XfGE6vN7AiuTMU0=\", \"seqno\": 1907338, \"root_hash\": \"BuZOCJvbg0ys2JBnfocqCf1T4rt0OzLLslOG3CjcSgU=\", \"workchain\": -1, \"shard\": -9223372036854775808}, {\"file_hash\": \"CXvKA37GFugspx6U7sv4Sh7KIVqR1R+Pj4AmGx2Ezi0=\", \"seqno\": 2908533, \"root_hash\": \"oFi1uMHmELXV/AfjuvTZREmRY7TtNgq608sFjnRJCAo=\", \"workchain\": -1, \"shard\": -9223372036854775808}]}}\"\n",
      "      blockchain_name = \"\"\n",
      "      use_callbacks_for_network = false\n",
      "      ignore_cache = false\n",
      "    }\n",
      "    keystore_type = keyStoreTypeDirectory {\n",
      "      directory = \"/tmp/tonlib_keystore\"\n",
      "    }\n",
      "  }\n",
      "}\u001b[0m\n",
      "[ 4][t 1][2022-03-11 23:17:09.816774200][TonlibClient.cpp:1456][!Tonlib][&tonlib_query id != 0]\tTonlib answer query [id:1] error {\n",
      "  code = 2\n",
      "  message = \"Realpath failed for \"/tmp/tonlib_keystore\"\"\n",
      "}\u001b[0m\n",
      "[ 4][t 0][2022-03-11 23:17:09.816957600][Client.cpp:78][&tonlib_requests]\tBegin to wait for updates with timeout 3.000000\u001b[0m\n",
      "[ 4][t 0][2022-03-11 23:17:09.816992200][Client.cpp:84][&tonlib_requests]\tEnd to wait for updates, returning object 1 0x7f7d680016d0\u001b[0m\n",
      "[ 4][t 0][2022-03-11 23:17:09.819959900][Client.cpp:78][&tonlib_requests]\tBegin to wait for updates with timeout 3.000000\u001b[0m\n",
      "2022-03-11 23:17:09.822 | INFO     | __main__:<cell line: 31>:31 - TonLib inited successfully\n",
      "[ 4][t 1][2022-03-11 23:17:09.821548600][TonlibClient.cpp:1479][!Tonlib][&tonlib_query]\tTonlib got query [id:2] setLogVerbosityLevel {\n",
      "  new_verbosity_level = 0\n",
      "}\u001b[0m\n",
      "[ 4][t 1][2022-03-11 23:17:09.821595400][TonlibClient.cpp:1518][!Tonlib][&tonlib_query]\tTonlib got static query setLogVerbosityLevel {\n",
      "  new_verbosity_level = 0\n",
      "}\u001b[0m\n"
     ]
    }
   ],
   "source": [
    "tonlib = TL.TonLib(loop, -1, None)\n",
    "\n",
    "# setup config\n",
    "keystore_obj = {\n",
    "    '@type': 'keyStoreTypeDirectory',\n",
    "    'directory': '/tmp/tonlib_keystore'\n",
    "}\n",
    "request = {\n",
    "    '@type': 'init',\n",
    "    'options': {\n",
    "        '@type': 'options',\n",
    "        'config': {\n",
    "            '@type': 'config',\n",
    "            'config': json.dumps(tonlib_config),\n",
    "            'use_callbacks_for_network': False,\n",
    "            'blockchain_name': '',\n",
    "            'ignore_cache': False\n",
    "        },\n",
    "        'keystore_type': keystore_obj\n",
    "    }\n",
    "}\n",
    "await tonlib.execute(request)\n",
    "\n",
    "# set verbosity\n",
    "level = 0\n",
    "request = {\n",
    "    '@type': 'setLogVerbosityLevel',\n",
    "    'new_verbosity_level': level\n",
    "}\n",
    "await tonlib.execute(request)\n",
    "logger.info(F\"TonLib inited successfully\")"
   ]
  },
  {
   "cell_type": "code",
   "execution_count": 5,
   "id": "51cc8bca",
   "metadata": {},
   "outputs": [
    {
     "data": {
      "text/plain": [
       "1646693258.834111"
      ]
     },
     "execution_count": 5,
     "metadata": {},
     "output_type": "execute_result"
    }
   ],
   "source": [
    "import time\n",
    "time.time()"
   ]
  },
  {
   "cell_type": "code",
   "execution_count": 17,
   "id": "cf319130",
   "metadata": {},
   "outputs": [
    {
     "name": "stderr",
     "output_type": "stream",
     "text": [
      "2022-03-07 22:51:18.492 | INFO     | __main__:sleep_func:5 - Sleeping 2\n",
      "2022-03-07 22:51:18.494 | INFO     | __main__:sleep_func:5 - Sleeping 3\n",
      "2022-03-07 22:51:18.495 | INFO     | __main__:sleep_func:5 - Sleeping 7\n",
      "2022-03-07 22:51:18.496 | INFO     | __main__:sleep_func:5 - Sleeping 7\n",
      "2022-03-07 22:51:18.497 | INFO     | __main__:sleep_func:5 - Sleeping 7\n"
     ]
    },
    {
     "name": "stdout",
     "output_type": "stream",
     "text": [
      "0: {'delay': 2}\n",
      "1: {'delay': 3}\n",
      "2: {'delay': 7}\n",
      "3: {'delay': 7}\n",
      "4: {'delay': 7}\n"
     ]
    },
    {
     "name": "stderr",
     "output_type": "stream",
     "text": [
      "2022-03-08 00:55:38.895 | WARNING  | tApi.tonlib.tonlibjson:read_results:120 - Tonlib Stuck!\n"
     ]
    }
   ],
   "source": [
    "import random\n",
    "\n",
    "\n",
    "async def sleep_func(delay):\n",
    "    logger.info(f'Sleeping {delay}')\n",
    "    await asyncio.sleep(delay)\n",
    "    return {'delay': delay}\n",
    "\n",
    "\n",
    "async def dispatch_many(times=5):\n",
    "    loop = asyncio.get_running_loop()\n",
    "    futures = [asyncio.ensure_future(sleep_func(random.randint(2, 7)), loop=loop)\n",
    "               for _ in range(times)]\n",
    "    for i, f in enumerate(asyncio.as_completed(futures)):\n",
    "        res = await f\n",
    "        print(f'{i}: {res}')\n",
    "\n",
    "await dispatch_many(5)"
   ]
  },
  {
   "cell_type": "code",
   "execution_count": 7,
   "id": "e18cd748",
   "metadata": {},
   "outputs": [
    {
     "ename": "AssertionError",
     "evalue": "",
     "output_type": "error",
     "traceback": [
      "\u001b[0;31m---------------------------------------------------------------------------\u001b[0m",
      "\u001b[0;31mAssertionError\u001b[0m                            Traceback (most recent call last)",
      "Input \u001b[0;32mIn [7]\u001b[0m, in \u001b[0;36m<cell line: 1>\u001b[0;34m()\u001b[0m\n\u001b[0;32m----> 1\u001b[0m \u001b[38;5;28;01massert\u001b[39;00m \u001b[38;5;28;01mFalse\u001b[39;00m\n",
      "\u001b[0;31mAssertionError\u001b[0m: "
     ]
    }
   ],
   "source": [
    "assert False"
   ]
  },
  {
   "cell_type": "code",
   "execution_count": null,
   "id": "060578f5",
   "metadata": {},
   "outputs": [],
   "source": [
    "def func_with_return():\n",
    "    return 10\n",
    "\n",
    "\n",
    "await loop.run_in_executor(None, func_with_return)"
   ]
  },
  {
   "cell_type": "code",
   "execution_count": null,
   "id": "6a6bcf32",
   "metadata": {},
   "outputs": [],
   "source": [
    "async def test2(delay):\n",
    "    loop = asyncio.get_running_loop()\n",
    "    \n",
    "    logger.info(f'Sleep {delay}')\n",
    "    await loop.run_in_executor(None, time.sleep, delay)\n",
    "    logger.info(f'Sleep done')\n",
    "    \n",
    "test1_coro = asyncio.ensure_future(test2(10), loop=loop)"
   ]
  },
  {
   "cell_type": "code",
   "execution_count": null,
   "id": "68957804",
   "metadata": {},
   "outputs": [],
   "source": [
    "async def test1(delay):\n",
    "    loop = asyncio.get_running_loop()\n",
    "    \n",
    "    logger.info(f'Sleep {delay}')\n",
    "    await time.sleep(delay)\n",
    "    logger.info(f'Sleep done')\n",
    "    \n",
    "test1_coro = asyncio.ensure_future(test1(10), loop=loop)"
   ]
  },
  {
   "cell_type": "code",
   "execution_count": null,
   "id": "6496ec16",
   "metadata": {},
   "outputs": [],
   "source": [
    "async def tick():\n",
    "    try:\n",
    "        while True:\n",
    "            logger.info('Tick')\n",
    "            await asyncio.sleep(1)\n",
    "    except asyncio.CancelledError:\n",
    "        logger.warning('Tick canceled')\n",
    "\n",
    "    \n",
    "tick_coro = asyncio.ensure_future(tick(), loop=loop)"
   ]
  },
  {
   "cell_type": "code",
   "execution_count": null,
   "id": "f8b33c77",
   "metadata": {},
   "outputs": [],
   "source": []
  }
 ],
 "metadata": {
  "kernelspec": {
   "display_name": "Python 3 (ipykernel)",
   "language": "python",
   "name": "python3"
  },
  "language_info": {
   "codemirror_mode": {
    "name": "ipython",
    "version": 3
   },
   "file_extension": ".py",
   "mimetype": "text/x-python",
   "name": "python",
   "nbconvert_exporter": "python",
   "pygments_lexer": "ipython3",
   "version": "3.8.10"
  }
 },
 "nbformat": 4,
 "nbformat_minor": 5
}
