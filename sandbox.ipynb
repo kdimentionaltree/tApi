{
 "cells": [
  {
   "cell_type": "code",
   "execution_count": null,
   "id": "670acd36",
   "metadata": {},
   "outputs": [],
   "source": [
    "%load_ext autoreload\n",
    "%autoreload 2"
   ]
  },
  {
   "cell_type": "code",
   "execution_count": null,
   "id": "a1d0734c",
   "metadata": {},
   "outputs": [],
   "source": [
    "import os\n",
    "import asyncio\n",
    "import json\n",
    "\n",
    "from loguru import logger\n",
    "\n",
    "\n",
    "loop = asyncio.get_running_loop()"
   ]
  },
  {
   "cell_type": "raw",
   "id": "0fba4ff2",
   "metadata": {},
   "source": [
    "!wget -O settings/mainnet.json https://newton-blockchain.github.io/global.config.json\n",
    "!wget -O settings/testnet.json https://newton-blockchain.github.io/testnet-global.config.json"
   ]
  },
  {
   "cell_type": "code",
   "execution_count": null,
   "id": "8fb804df",
   "metadata": {
    "scrolled": false
   },
   "outputs": [],
   "source": [
    "with open('settings/testnet.json', 'r') as f:\n",
    "    tonlib_config = json.load(f)\n",
    "    \n",
    "tonlib_config['liteservers'] = tonlib_config['liteservers']\n",
    "print('Num ls:', len(tonlib_config['liteservers']))"
   ]
  },
  {
   "cell_type": "code",
   "execution_count": null,
   "id": "1c7893a2",
   "metadata": {},
   "outputs": [],
   "source": [
    "os.makedirs('private/ton_keystore', exist_ok=True)"
   ]
  },
  {
   "cell_type": "markdown",
   "id": "6112e859",
   "metadata": {},
   "source": [
    "# TonlibMulticlient"
   ]
  },
  {
   "cell_type": "code",
   "execution_count": null,
   "id": "86ef6a74",
   "metadata": {},
   "outputs": [],
   "source": [
    "loop = asyncio.get_running_loop()"
   ]
  },
  {
   "cell_type": "code",
   "execution_count": null,
   "id": "c0452e18",
   "metadata": {
    "scrolled": false
   },
   "outputs": [],
   "source": [
    "from tApi.tonlib.multiclient import TonlibMultiClient\n",
    "\n",
    "\n",
    "\n",
    "liteserver_blacklist = [3, 6, 13]\n",
    "multiclient = TonlibMultiClient(loop, \n",
    "                                tonlib_config, \n",
    "                                './private/ton_keystore',\n",
    "                                liteserver_blacklist=liteserver_blacklist,\n",
    "                                verbosity_level=4)\n",
    "await multiclient.init(0)"
   ]
  },
  {
   "cell_type": "code",
   "execution_count": null,
   "id": "97ca44cf",
   "metadata": {
    "scrolled": false
   },
   "outputs": [],
   "source": [
    "await multiclient.getMasterchainInfo()"
   ]
  },
  {
   "cell_type": "code",
   "execution_count": null,
   "id": "4a5feba0",
   "metadata": {},
   "outputs": [],
   "source": [
    "from ipywidgets import Output\n",
    "\n",
    "output = Output()\n",
    "async def monitor():\n",
    "    while True:\n",
    "        res = ''\n",
    "        for client in multiclient.clients.values():\n",
    "            res += f'{client.ls_index:2d}: {len(client.tonlib_wrapper.futures):3d}\\n'\n",
    "        with output:\n",
    "            output.clear_output(wait=True)\n",
    "            print(res)\n",
    "        await asyncio.sleep(0.25)\n",
    "        \n",
    "display(output)\n",
    "asyncio.ensure_future(monitor())"
   ]
  },
  {
   "cell_type": "code",
   "execution_count": null,
   "id": "f776aa5a",
   "metadata": {
    "scrolled": false
   },
   "outputs": [],
   "source": [
    "import time\n",
    "from tqdm.auto import tqdm\n",
    "\n",
    "\n",
    "for i in tqdm(range(16384)):\n",
    "    fut = multiclient.getBlockTransactions(-1, -9223372036854775808, 2000, 10)\n",
    "    asyncio.ensure_future(fut)\n",
    "    await asyncio.sleep(0.0005)"
   ]
  },
  {
   "cell_type": "code",
   "execution_count": null,
   "id": "a1b409c0",
   "metadata": {},
   "outputs": [],
   "source": [
    "[3, 6, 13]"
   ]
  },
  {
   "cell_type": "markdown",
   "id": "5edc0939",
   "metadata": {},
   "source": [
    "# TonlibClient"
   ]
  },
  {
   "cell_type": "code",
   "execution_count": null,
   "id": "d8cefee2",
   "metadata": {},
   "outputs": [],
   "source": [
    "loop = asyncio.get_running_loop()"
   ]
  },
  {
   "cell_type": "code",
   "execution_count": null,
   "id": "f8b33c77",
   "metadata": {
    "scrolled": false
   },
   "outputs": [],
   "source": [
    "from tApi.tonlib.client import TonlibClient\n",
    "\n",
    "\n",
    "client = TonlibClient(1, \n",
    "                      tonlib_config, \n",
    "                      './private/ton_keystore',\n",
    "                      loop,\n",
    "                      cdll_path=None,\n",
    "                      verbosity_level=0)\n",
    "await client.init()"
   ]
  },
  {
   "cell_type": "code",
   "execution_count": null,
   "id": "189be901",
   "metadata": {
    "scrolled": false
   },
   "outputs": [],
   "source": [
    "masterchain_info = await client.getMasterchainInfo()\n",
    "last_block = masterchain_info['last'].copy()\n",
    "last_block.pop('@type')\n",
    "\n",
    "block_header = await client.getBlockHeader(**last_block)\n",
    "\n",
    "transactions = await client.getBlockTransactions(**last_block, count=50)\n",
    "transactions"
   ]
  },
  {
   "cell_type": "code",
   "execution_count": null,
   "id": "375b74c2",
   "metadata": {},
   "outputs": [],
   "source": []
  }
 ],
 "metadata": {
  "kernelspec": {
   "display_name": "Python 3 (ipykernel)",
   "language": "python",
   "name": "python3"
  },
  "language_info": {
   "codemirror_mode": {
    "name": "ipython",
    "version": 3
   },
   "file_extension": ".py",
   "mimetype": "text/x-python",
   "name": "python",
   "nbconvert_exporter": "python",
   "pygments_lexer": "ipython3",
   "version": "3.8.10"
  }
 },
 "nbformat": 4,
 "nbformat_minor": 5
}
